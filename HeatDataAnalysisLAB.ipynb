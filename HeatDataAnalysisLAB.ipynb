{
  "nbformat": 4,
  "nbformat_minor": 0,
  "metadata": {
    "colab": {
      "provenance": [],
      "collapsed_sections": [],
      "include_colab_link": true
    },
    "kernelspec": {
      "name": "python3",
      "display_name": "Python 3"
    },
    "language_info": {
      "name": "python"
    }
  },
  "cells": [
    {
      "cell_type": "markdown",
      "metadata": {
        "id": "view-in-github",
        "colab_type": "text"
      },
      "source": [
        "<a href=\"https://colab.research.google.com/github/sjsjcheon/cbe4100lab1/blob/main/HeatDataAnalysisLAB.ipynb\" target=\"_parent\"><img src=\"https://colab.research.google.com/assets/colab-badge.svg\" alt=\"Open In Colab\"/></a>"
      ]
    },
    {
      "cell_type": "markdown",
      "source": [
        "\n",
        "# Analysis of a Douple Pipe Heat Exchanger\n",
        "authors: Saejoon Cheon, Kofi Nightingale, Jake Reisner, Guillermo Ribeiro\n",
        "\n",
        "CBE 410\n",
        "\n",
        "Prof. Huff, Prof. Lu\n",
        "\n",
        "September 8 2022"
      ],
      "metadata": {
        "id": "hiaasx9eihMK"
      }
    },
    {
      "cell_type": "markdown",
      "source": [
        "#Dimensions\n"
      ],
      "metadata": {
        "id": "iw8Rzr4RPEyA"
      }
    },
    {
      "cell_type": "markdown",
      "source": [
        "In the following diagram of the concentric heat exchanger from the lab sheet, \n",
        "\n",
        "---\n",
        "\n",
        "it is clear which dimensions are needed in order to perform calculations relevant to the heat transfer analysis of this heat exchanger.\n",
        "\n",
        "\n",
        "![pipe cross-section](https://github.com/gui11erv/CBE410/blob/main/Heat%20Data%20Analysis/images/cross-section.png?raw=true)\n",
        "\n",
        "\n",
        "The necessary dimensions are the inner ($D_{1,i}$) and outer ($D_{1,o}$) diameters of the interior tube (hot water), and the inner ($D_{2,i}$) and outer ($D_{2,o}$) diameters of the annulus (cold water). It will also be necessary to know the total length ($L$) of the heat exchanger in order to calculate the necessary surface areas for heat transfer: $A_s = PL$ where $P$ is the perimeter of a cross-section of a tube:\n",
        "\n",
        "$A_{s,i} = P_iL = {\\pi}D_{1,i}L$ for the heat transfer surface area of the hot (inner) fluid\n",
        "\n",
        "$A_{s,o} = P_oL = {\\pi}D_{1,o}L$ for the heat transfer surface area of the cold (outer) fluid\n",
        "\n",
        "Other necessary dimensions are the cross-sectional areas of fluid flow in the tubes, which are directly related to the tube diameters:\n",
        "\n",
        "$A_{interior}=\\frac{{\\pi}D_{1,i}^2}{4}$ for the interior tube \n",
        "\n",
        "$A_{annulus}=\\frac{{\\pi}(D_{2,i}^2-D_{1,o}^2)}{4}$ for the annulus\n",
        "\n",
        "And the hydraulic diameters of the inner tube and the outer annulus, necessary for calculations of dimensionless Reynolds and Nusselt numbers, given by $D_H = \\frac{4A}{P}$:\n",
        "\n",
        "$D_{H,interior} = \\frac{4A_{interior}}{P_{interior}} = D_{1,i}$\n",
        "\n",
        "$D_{H,annulus} = \\frac{4A_{annulus}}{P_{annulus}} = 4\\frac{\\frac{{\\pi}(D_{2,i}^2-D_{1,o}^2)}{4}}{{\\pi}(D_{2,i}+D_{1,o})}=D_{2,i}-D_{1,o}$"
      ],
      "metadata": {
        "id": "fMzIW_grG1iV"
      }
    },
    {
      "cell_type": "markdown",
      "source": [
        "The following table contains all of the dimensions that are used in the calculations in the succeeding sections of the lab report:\n",
        "\n",
        "Dimension  | Value \n",
        "-------------------|------------------\n",
        "Interior Pipe Inner Diameter, $D_{1,i}=D_{H,interior}$      | $16 mm = .016 m$ \n",
        "Interior Pipe Outer Diameter, $D_{1,o}$       | $18 mm = .018 m$\n",
        "Interior Pipe Cross-Sectional Area, $A_{interior}$       | $64{\\pi}mm^2=.000064{\\pi}m^2$\n",
        "Annulus Inner Diameter, $D_{2,i}$       | $26 mm = .026 m$\n",
        "Annulus Outer Diameter, $D_{2,o}$       | $28 mm = .028 m$\n",
        "Annulus Cross-Sectional Area, $A_{annulus}$       | $88{\\pi}mm^2=.000088{\\pi}m^2$\n",
        "Annulus Hydraulic Diameter, $D_{H,annulus}$       | $8 mm = .008 m$ \n",
        "Heat Exchanger Length, $L$       | $1000 mm = 1 m$\n",
        "Heat Exchanger Inner Wall Surface Area, $A_{s,i}$       | $16000{\\pi} mm^2 = .016{\\pi} m^2$\n",
        "Heat Exchanger Outer Wall Surface Area, $A_{s,o}$       | $18000{\\pi} mm^2 = .018{\\pi} m^2$\n",
        "\n",
        "\n"
      ],
      "metadata": {
        "id": "AANoXMxTG5RG"
      }
    },
    {
      "cell_type": "code",
      "source": [
        "## the above data table stored as variables in python to be used for calculations\n",
        "import numpy as np\n",
        "\n",
        "d_1i = .016 # interior pipe inner diameter (meters). this is also the hydraulic diameter of the interior pipe\n",
        "d_1o = .018 # interior pipe outer diameter (meters)\n",
        "\n",
        "d_2i = .026 # annulus inner diameter (meters)\n",
        "d_2o = .028 # annulus outer diameter (meters)\n",
        "\n",
        "a_int = d_1i**2*np.pi/4 # interior pipe cross-sectional area (square meters)\n",
        "a_ann = (d_2i**2-d_1o**2)*np.pi/4 # annulus cross-sectional area (square meters)\n",
        "\n",
        "d_h = d_2i-d_1o # hydraulic diameter of annulus (meters)\n",
        "\n",
        "L = 1 # heat exchanger length (meters)\n",
        "\n",
        "a_si = L*d_1i*np.pi # heat transfer surface area for hot (inner) fluid (square meters)\n",
        "a_so = L*d_1o*np.pi # heat transfer surface area for cold (outer) fluid (square meters)\n"
      ],
      "metadata": {
        "id": "DxtPFyc4v_lg"
      },
      "execution_count": null,
      "outputs": []
    },
    {
      "cell_type": "markdown",
      "source": [
        "#Properties"
      ],
      "metadata": {
        "id": "pV8DynkBjjvO"
      }
    },
    {
      "cell_type": "code",
      "source": [
        "from re import T\n",
        "import numpy as np\n",
        "import matplotlib.pyplot as plt\n",
        "from numpy import mean\n",
        "! git clone https://github.com/sjsjcheon/cbe4100lab1\n",
        "\n",
        "# Physical properties of tube in W/m*K\n",
        "k_wall = 15\n",
        "\n",
        "# Physical properties of fluid (hot or cold)\n",
        "\n",
        "# Importing Table H-2 in same order for rows and columns\n",
        "temp_data = np.loadtxt('cbe4100lab1/lab1data.txt').reshape(4,6)\n",
        "print(temp_data)\n",
        "\n",
        "# (average) temperatures\n",
        "t_hot = np.array(temp_data[:,1:3]) #average hot water flow temperatures\n",
        "t_film_hot = mean(t_hot,axis=1) \n",
        "\n",
        "\n",
        "t_cold = np.array(temp_data[:,4:6]) #average cold water flow temperatures\n",
        "t_film_cold = mean(t_cold,axis=1)\n",
        "\n",
        "# Heat capacity of fluid in J/kg*K\n",
        "cp_hot = [4180,4180,4180,4180]\n",
        "cp_cold = [4190,4190,4190,4190]\n",
        "\n",
        "# Fluid density in kg/m^3\n",
        "p_hot = [988,989,989,989]\n",
        "p_cold = [999,999,999,1000]\n",
        "\n",
        "# Volumetric flow rates in m^3/s\n",
        "v_hot = 0.001*(1/60)*np.array(temp_data[:,0])\n",
        "v_cold = 0.001*(1/60)*np.array(temp_data[:,3])\n",
        "\n",
        "# Average velocity in m/s\n",
        "u_hot = v_hot / a_int\n",
        "u_cold = v_cold / a_ann\n",
        "\n",
        "# Fluid dynamic viscosity in kg/m*s\n",
        "mu_hot = 0.000001*np.array([552,560,566,573]) \n",
        "mu_cold = 0.000001*np.array([1110,1170,1220,1250])\n",
        "\n",
        "# Thermal conductivity of the fluid in W/m*K\n",
        "kf_hot = [0.643,0.642,0.641,0.640]\n",
        "kf_cold = [0.591,0.588,0.585,0.583]\n"
      ],
      "metadata": {
        "id": "dalXMZtNoQbM",
        "colab": {
          "base_uri": "https://localhost:8080/"
        },
        "outputId": "dcc31437-6328-4ff7-c965-d7b5877f8131"
      },
      "execution_count": null,
      "outputs": [
        {
          "output_type": "stream",
          "name": "stdout",
          "text": [
            "fatal: destination path 'cbe4100lab1' already exists and is not an empty directory.\n",
            "[[ 1.9 53.4 45.4  1.   8.1 23.9]\n",
            " [ 1.9 53.1 44.1  1.5  7.8 20.2]\n",
            " [ 2.  52.6 43.3  2.   7.5 17.6]\n",
            " [ 1.9 52.2 42.3  2.4  7.4 15.8]]\n"
          ]
        }
      ]
    },
    {
      "cell_type": "markdown",
      "source": [
        "To account for the temperature dependence of the physical properties, a different calculation was made for each design condition. Specifically, the film temperature (average of the inlet and outlet temperatures) was used when looking up physical properties for each of the four design conditions."
      ],
      "metadata": {
        "id": "IyRomJtz2hgl"
      }
    },
    {
      "cell_type": "markdown",
      "source": [
        "#Experimental"
      ],
      "metadata": {
        "id": "Ox0FypSjj1Ju"
      }
    },
    {
      "cell_type": "code",
      "source": [
        "import numpy as np\n",
        "import matplotlib.pyplot as plt\n",
        "from tabulate import tabulate"
      ],
      "metadata": {
        "id": "-tevNWvVYUfh"
      },
      "execution_count": null,
      "outputs": []
    },
    {
      "cell_type": "code",
      "source": [
        "\n",
        "hot_flow_heat = np.multiply(np.multiply(np.multiply(p_hot,v_hot),cp_hot),np.subtract(temp_data[:,1],temp_data[:,2])) #calculate heat lost by hot flow\n",
        "cold_flow_heat = np.multiply(np.multiply(np.multiply(p_cold,v_cold),cp_cold),np.subtract(temp_data[:,5],temp_data[:,4])) #calculate heat gained by cold flow\n",
        "heat_lost = np.subtract(hot_flow_heat, cold_flow_heat) #heat lost to surroundings\n",
        "\n",
        "#print(hot_flow_heat) #uncomment to see hot flow heat lost\n",
        "#print(cold_flow_heat) #uncomment to see cold flow heat gained\n",
        "#print(heat_lost) #uncomment to see system heat lost\n",
        "\n"
      ],
      "metadata": {
        "id": "dsKW7eV7YYm-"
      },
      "execution_count": null,
      "outputs": []
    },
    {
      "cell_type": "code",
      "source": [
        "\n",
        "#Calculate the log mean temperature difference of the system: \n",
        "d_temp_left = np.subtract(temp_data[:,2],temp_data[:,4])\n",
        "d_temp_right = np.subtract(temp_data[:,1],temp_data[:,5])\n",
        "log_mean_temp = np.divide(np.subtract(d_temp_left,d_temp_right),np.log(np.divide(d_temp_left,d_temp_right))) \n",
        "\n",
        "print(log_mean_temp)\n",
        "\n",
        "#Calculate the overall heat transfer coefficient (U):\n",
        "u_exp_hot = np.divide(hot_flow_heat,np.multiply(log_mean_temp,0.016*np.pi)) #calculate U using the heat lost in the hot fluid\n",
        "u_exp_cold = np.divide(cold_flow_heat,np.multiply(log_mean_temp,0.018*np.pi)) #calculate U using the heat gained in the cold fluid\n",
        "\n",
        "print(u_exp_hot)\n",
        "print(u_exp_cold)"
      ],
      "metadata": {
        "id": "d3o3TvLBYbEM",
        "outputId": "1b1c4282-38c3-4102-e89a-52e279dcd16b",
        "colab": {
          "base_uri": "https://localhost:8080/"
        }
      },
      "execution_count": null,
      "outputs": [
        {
          "output_type": "stream",
          "name": "stdout",
          "text": [
            "[33.24764771 34.57214005 35.39849336 35.64473991]\n",
            "[626.02947949 677.98691848 720.24397505 723.34388276]\n",
            "[586.27590514 663.73170525 703.9997009  698.45024239]\n"
          ]
        }
      ]
    },
    {
      "cell_type": "code",
      "source": [
        "dc = ['Condition 1','Condition 2','Condition 3','Condition 4']\n",
        "heat_headers = ['Design Conditions','Hot Flow Heat Lost \\n(W)','Cold Flow Heat Gained \\n(W)','Heat Lost By Surroundings\\n(absorbed by heat exchanger) \\n(W)'\\\n",
        "                ,'Log Mean Temperature Difference \\n(K)','Experimental U \\n(Hot Fluid) \\n(W/m2K)','Experimental U \\n(Cold Fluid) \\n(W/m2K)']\n",
        "\n",
        "heat_table = tabulate(np.transpose([dc,hot_flow_heat,cold_flow_heat,heat_lost,log_mean_temp, u_exp_hot,u_exp_cold]),headers= heat_headers,numalign='center')\n",
        "\n",
        "print(heat_table)\n",
        "\n",
        "temp_headers = ['Design Conditions','Hot Flow Rate (LPM)','Hot Temp In (C)','Hot Temp Out (C)','Cold Flow Rate (LPM)','Cold Temp In (C)','Cold Temp Out (C)']\n",
        "temp_table = tabulate(np.append(np.array(dc).reshape(4,1),temp_data,axis=1),headers=temp_headers,numalign='center')\n",
        "\n",
        "print('\\n'+temp_table)"
      ],
      "metadata": {
        "id": "zYhvh1TeYcgZ",
        "outputId": "91c482f7-cddf-4b73-86ea-607f1ad64773",
        "colab": {
          "base_uri": "https://localhost:8080/"
        }
      },
      "execution_count": null,
      "outputs": [
        {
          "output_type": "stream",
          "name": "stdout",
          "text": [
            "Design Conditions     Hot Flow Heat Lost     Cold Flow Heat Gained       Heat Lost By Surroundings      Log Mean Temperature Difference     Experimental U     Experimental U\n",
            "                              (W)                     (W)              (absorbed by heat exchanger)                   (K)                    (Hot Fluid)        (Cold Fluid)\n",
            "                                                                                    (W)                                                         (W/m2K)            (W/m2K)\n",
            "-------------------  ---------------------  ------------------------  -------------------------------  ----------------------------------  -----------------  -----------------\n",
            "Condition 1                 1046.23                 1102.26                       56.0372                           33.2476                     626.029            586.276\n",
            "Condition 2                 1178.2                   1297.6                       119.405                           34.5721                     677.987            663.732\n",
            "Condition 3                 1281.55                 1409.22                       127.676                           35.3985                     720.244              704\n",
            "Condition 4                 1296.02                 1407.84                       111.825                           35.6447                     723.344            698.45\n",
            "\n",
            "Design Conditions     Hot Flow Rate (LPM)    Hot Temp In (C)    Hot Temp Out (C)    Cold Flow Rate (LPM)    Cold Temp In (C)    Cold Temp Out (C)\n",
            "-------------------  ---------------------  -----------------  ------------------  ----------------------  ------------------  -------------------\n",
            "Condition 1                   1.9                 53.4                45.4                   1                    8.1                 23.9\n",
            "Condition 2                   1.9                 53.1                44.1                  1.5                   7.8                 20.2\n",
            "Condition 3                    2                  52.6                43.3                   2                    7.5                 17.6\n",
            "Condition 4                   1.9                 52.2                42.3                  2.4                   7.4                 15.8\n"
          ]
        }
      ]
    },
    {
      "cell_type": "code",
      "source": [],
      "metadata": {
        "colab": {
          "base_uri": "https://localhost:8080/"
        },
        "id": "vqDHbLHK3e9S",
        "outputId": "6649dec3-5006-488e-cf4f-ebe47c40ce88"
      },
      "execution_count": null,
      "outputs": [
        {
          "output_type": "stream",
          "name": "stdout",
          "text": [
            "Design Conditions      Hot Flow Rate (LPM)    Hot Temp In (C)    Hot Temp Out (C)    Cold Flow Rate (LPM)    Cold Temp In (C)    Cold Temp Out (C)\n",
            "-------------------  ---------------------  -----------------  ------------------  ----------------------  ------------------  -------------------\n",
            "Condition 1                            1.9               53.4                45.4                     1                   8.1                 23.9\n",
            "Condition 2                            1.9               53.1                44.1                     1.5                 7.8                 20.2\n",
            "Condition 3                            2                 52.6                43.3                     2                   7.5                 17.6\n",
            "Condition 4                            1.9               52.2                42.3                     2.4                 7.4                 15.8\n"
          ]
        }
      ]
    },
    {
      "cell_type": "markdown",
      "source": [
        "What impacts the magnitude of the heat lost by the \n",
        "system?\n",
        "\n",
        "In this case, the system actually gains heat, because the surrounding environment is hotter than the cold fluid. The primary contributor to heat lost to the system is the difference in temperature between the cold fluid and the surroundings (room temperature). As the exit temperature of the cold fluid decreases, so does the average temperature of the cold fluid in the heat exchanger, and therefore the heat transfer from the surroundings to the heat exchanger increases. This is evident in the data table above.\n",
        "\n",
        "Since there is little/no insulation between the system and the surroundings the magnitude of the heat transfer will be larger."
      ],
      "metadata": {
        "id": "6nwc05Bt0PXX"
      }
    },
    {
      "cell_type": "markdown",
      "source": [
        "#Correlations"
      ],
      "metadata": {
        "id": "J9YTtOPRkFav"
      }
    },
    {
      "cell_type": "markdown",
      "source": [
        "## Hot Fluid"
      ],
      "metadata": {
        "id": "96lnhp0XkJtv"
      }
    },
    {
      "cell_type": "code",
      "source": [
        "## Hot Fluid, Reynolds number\n",
        "\n",
        "re_hot = p_hot*u_hot*d_1i/mu_hot\n",
        "print(\"Re: \" , re_hot)"
      ],
      "metadata": {
        "id": "uZ2ibzv2RThJ"
      },
      "execution_count": null,
      "outputs": []
    },
    {
      "cell_type": "code",
      "source": [
        "## Hot Fluid, Prandtl number\n",
        "\n",
        "pr_hot = mu_hot*cp_hot/kf_hot"
      ],
      "metadata": {
        "id": "0k3zjzruT3OY"
      },
      "execution_count": null,
      "outputs": []
    },
    {
      "cell_type": "markdown",
      "source": [
        "## Cold Fluid"
      ],
      "metadata": {
        "id": "N2foIBNeUT_g"
      }
    },
    {
      "cell_type": "code",
      "source": [
        "## Cold Fluid, Reynolds number\n",
        "\n",
        "re_cold = p_cold*u_cold*d_h/mu_cold\n",
        "print(\"Re: \", re_cold)"
      ],
      "metadata": {
        "id": "P9NLOcSvUWVF"
      },
      "execution_count": null,
      "outputs": []
    },
    {
      "cell_type": "code",
      "source": [
        "## Cold Fluid, Prandtl number\n",
        "\n",
        "pr_cold = mu_cold*cp_cold/kf_cold\n",
        "print(\"Pr: \", pr_cold)"
      ],
      "metadata": {
        "id": "M90-TIc7UrUC"
      },
      "execution_count": null,
      "outputs": []
    },
    {
      "cell_type": "markdown",
      "source": [
        "The flows are turbulent in all four cases for the hot fluid, and the flows are laminar in all four cases for the cold fluid."
      ],
      "metadata": {
        "id": "jGQjF4RqV0AE"
      }
    },
    {
      "cell_type": "markdown",
      "source": [
        "**Hydrodynamic Considerations**\n",
        "> Inner Tube: Assume turbulent flow if Re >= 2300. Onset of fully developed flow for turbulent flow occurs at (x/D) > 10. This x value represents the hydrodynamic entry length. Heat and mass transfer textbook pg. 417\n",
        "\n",
        "> Annulus: X = 0.05*Re*D_h where D_h represents hydraulic diameter"
      ],
      "metadata": {
        "id": "ahrw8FXnVjU9"
      }
    },
    {
      "cell_type": "markdown",
      "source": [
        "**Thermal Considerations**\n",
        "> Inner Tube: For turbulent flow, x/D = 10. Textbook p 476\n",
        "\n",
        "> Annulus: Laminar. X = 0.05*Re*Pr*D_h where D_h represents hydraulic diameter"
      ],
      "metadata": {
        "id": "GHVtaagZVoy3"
      }
    },
    {
      "cell_type": "code",
      "source": [
        "#Hydrodynamic entry lengths for all four cases for the hot fluid\n",
        "\n",
        "l_hyd_turb_hot = 10*d_1i\n",
        "print(\"Hyd entry length: \", l_hyd_turb_hot, \"m\")\n",
        "\n",
        "#Thermal entry lengths for all four cases for the hot fluid\n",
        "l_therm_turb_hot = 10*d_1i\n",
        "print(\"Thermal entry length: \", l_therm_turb_hot, \"m\")"
      ],
      "metadata": {
        "id": "0PZGN46MWMqU"
      },
      "execution_count": null,
      "outputs": []
    },
    {
      "cell_type": "code",
      "source": [
        "#Hydrodynamic entry lengths for all four cases for the cold fluid\n",
        "\n",
        "l_hyd_lam_cold = 0.05*re_cold*d_h\n",
        "print(\"Hyd entry length: \", l_hyd_lam_cold, \"m\")\n",
        "\n",
        "#Thermal entry lengths for all four cases for the cold fluid\n",
        "l_therm_lam_cold = 0.05*re_cold*pr_cold*d_h\n",
        "print(\"Thermal entry length: \", l_therm_lam_cold, \"m\")"
      ],
      "metadata": {
        "id": "BvU3XbvuX51H"
      },
      "execution_count": null,
      "outputs": []
    },
    {
      "cell_type": "markdown",
      "source": [
        "Hot Fluid Nusselt Correlation. From Heat and Mass Transfer book p. 519, equations 8.21 and 8.62. Turbulent and fully developed."
      ],
      "metadata": {
        "id": "vO7J_GRQc_fN"
      }
    },
    {
      "cell_type": "code",
      "source": [
        "# Hot Fluid\n",
        "\n",
        "friction_factors = (0.790*np.log(re_hot)-1.64)**-2\n",
        "print(\"Friction factors: \", friction_factors)\n",
        "\n",
        "nu_hot = (friction_factors/8)*(re_hot-1000)*pr_hot/(1+12.7*((friction_factors/8)**0.5)*(pr_hot**(2/3)-1))\n",
        "print(\"Nusselt numbers: \", nu_hot)"
      ],
      "metadata": {
        "id": "kvEcISnTb09C"
      },
      "execution_count": null,
      "outputs": []
    },
    {
      "cell_type": "markdown",
      "source": [
        "Cold Fluid Nusselt Correlation. From H&M book p. 519, equation 8.58. x represents total length per Prof. Lu. Laminar and combined entry length."
      ],
      "metadata": {
        "id": "lfzFgST9f_tj"
      }
    },
    {
      "cell_type": "code",
      "source": [
        "graetz = (d_h/L)*re_cold*pr_cold\n",
        "nu_cold_numerator_term_1 = 3.66/np.tanh(2.264*graetz**(-1/3)+1.7*graetz**(-2/3))\n",
        "nu_cold_numerator_term_2 = 0.0499*graetz*np.tanh(graetz**-1)\n",
        "nu_cold_denominator = np.tanh(2.432*(pr_cold**(1/6))*(graetz**(-1/6)))\n",
        "nu_cold = (nu_cold_numerator_term_1 + nu_cold_numerator_term_2)/nu_cold_denominator\n",
        "print(\"Nusselt Numbers: \", nu_cold)"
      ],
      "metadata": {
        "id": "OxmOzUSUgB4l"
      },
      "execution_count": null,
      "outputs": []
    },
    {
      "cell_type": "code",
      "source": [
        "# Resistances to heat transfer\n",
        "\n",
        "# Outer (shell) side\n",
        "ho = nu_cold*kf_cold/d_h\n",
        "R_h = 1/(ho*a_so)\n",
        "\n",
        "# Through the wall\n",
        "R_w = (np.log((d_1o/d_1i)))/(2*np.pi*k_wall*L)\n",
        "\n",
        "# Inner (tube) side\n",
        "hi = nu_hot*kf_hot/d_1i\n",
        "R_i = 1/(hi*a_si)\n",
        "print(R_i)\n",
        "# Theoretical overall heat transfer coefficient, UA in W/K\n",
        "UA = (R_h + R_w + R_i)**(-1)\n",
        "print (\"Theoretical Overall Heat Transfer Coefficient UA = \", UA, \"Watts/K\")\n",
        "\n",
        "## suppose A is the average of the heat transfer surface areas, a_si and a_so\n",
        "A = .5*(a_si+a_so)\n",
        "# calculate U as UA/A (approximation)\n",
        "U = UA/A\n",
        "print (\"Theoretical Overall Heat Transfer Coefficient U = \", U, \"Watts/m^2K\")"
      ],
      "metadata": {
        "id": "BcVknporjo3N"
      },
      "execution_count": null,
      "outputs": []
    },
    {
      "cell_type": "markdown",
      "source": [
        "The heat transfer efficiency would be improved by thickening the insulation around the outer tube to reduce heat lost from the outer tube to the surroundings."
      ],
      "metadata": {
        "id": "j81zIO51yB6h"
      }
    },
    {
      "cell_type": "markdown",
      "source": [
        "\n",
        "#Results\n"
      ],
      "metadata": {
        "id": "J8oYTuJBkKru"
      }
    },
    {
      "cell_type": "code",
      "source": [
        "def u_calc(Pr,Re):\n",
        "  d_h = 0.008\n",
        "  graetz = (d_h/1)*Re*Pr\n",
        "  nu_cold_numerator_term_1 = 3.66/np.tanh(2.264*graetz**(-1/3)+1.7*graetz**(-2/3))\n",
        "  nu_cold_numerator_term_2 = 0.0499*graetz*np.tanh(graetz**-1)\n",
        "  nu_cold_denominator = np.tanh(2.432*(Pr**(1/6))*(graetz**(-1/6)))\n",
        "  nu_cold = (nu_cold_numerator_term_1 + nu_cold_numerator_term_2)/nu_cold_denominator\n",
        "\n",
        "  k_cold = np.mean(kf_cold)\n",
        "  D_cold = d_h\n",
        "  a_cold = a_so\n",
        "\n",
        "  h_cold = k_cold*nu_cold/D_cold\n",
        "  R_cold = 1/(h_cold*a_cold)\n",
        "\n",
        "  R_wall = R_w\n",
        "  R_hot = np.mean(R_i)\n",
        "\n",
        "  a = A\n",
        "  u = ((R_hot + R_wall + R_cold)**(-1))/a\n",
        "  return u\n",
        "\n",
        "re_cold_smooth = np.linspace(350,1100,100)\n",
        "u_smooth = u_calc(np.mean(pr_cold),re_cold_smooth)\n",
        "print(u_calc(np.mean(pr_cold),re_cold))\n",
        "\n"
      ],
      "metadata": {
        "id": "p_1fW6fMXYt4"
      },
      "execution_count": null,
      "outputs": []
    },
    {
      "cell_type": "code",
      "source": [
        "plt.plot(re_cold,u_exp_cold,'o')\n",
        "plt.plot(re_cold_smooth,u_smooth,'orange')\n",
        "plt.xlim([200,1200])\n",
        "plt.ylim([0,1000])\n",
        "plt.title(\"Overall Heat Transfer Coefficient vs Reynolds Number of the Cold (outer) Fluid\",fontweight='bold')\n",
        "plt.xlabel(\"Reynolds Number of Cold Fluid\")\n",
        "plt.ylabel(\"Overall Heat Transfer Coefficient U (W/m^2K)\")\n",
        "plt.legend(['experimental calculations','theoretical correlations'])"
      ],
      "metadata": {
        "id": "ft0LOd-EfJ1l"
      },
      "execution_count": null,
      "outputs": []
    }
  ]
}